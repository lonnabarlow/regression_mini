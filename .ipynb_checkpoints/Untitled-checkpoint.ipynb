{
 "cells": [
  {
   "cell_type": "code",
   "execution_count": 15,
   "id": "ff8c9d86",
   "metadata": {},
   "outputs": [],
   "source": [
    "import pandas as pd\n",
    "import numpy as np\n",
    "import seaborn as sns\n",
    "\n",
    "import matplotlib.pyplot as plt\n",
    "from scipy import stats\n",
    "from sklearn.linear_model import LinearRegression"
   ]
  },
  {
   "cell_type": "code",
   "execution_count": 16,
   "id": "7ff0eabf",
   "metadata": {},
   "outputs": [],
   "source": [
    "df = pd.read_csv('Food_Establishment_Inspection_Scores.csv')"
   ]
  },
  {
   "cell_type": "code",
   "execution_count": 17,
   "id": "9cb09632",
   "metadata": {},
   "outputs": [
    {
     "data": {
      "text/html": [
       "<div>\n",
       "<style scoped>\n",
       "    .dataframe tbody tr th:only-of-type {\n",
       "        vertical-align: middle;\n",
       "    }\n",
       "\n",
       "    .dataframe tbody tr th {\n",
       "        vertical-align: top;\n",
       "    }\n",
       "\n",
       "    .dataframe thead th {\n",
       "        text-align: right;\n",
       "    }\n",
       "</style>\n",
       "<table border=\"1\" class=\"dataframe\">\n",
       "  <thead>\n",
       "    <tr style=\"text-align: right;\">\n",
       "      <th></th>\n",
       "      <th>Restaurant Name</th>\n",
       "      <th>Zip Code</th>\n",
       "      <th>Inspection Date</th>\n",
       "      <th>Score</th>\n",
       "      <th>Address</th>\n",
       "      <th>Facility ID</th>\n",
       "      <th>Process Description</th>\n",
       "    </tr>\n",
       "  </thead>\n",
       "  <tbody>\n",
       "    <tr>\n",
       "      <th>0</th>\n",
       "      <td>OOB - La Tropicana La Fe</td>\n",
       "      <td>78753.0</td>\n",
       "      <td>12/17/2019</td>\n",
       "      <td>100</td>\n",
       "      <td>9429 N IH\\nAUSTIN, TX 78753</td>\n",
       "      <td>10631961</td>\n",
       "      <td>Routine Inspection</td>\n",
       "    </tr>\n",
       "    <tr>\n",
       "      <th>1</th>\n",
       "      <td>Circle K #2742103</td>\n",
       "      <td>78753.0</td>\n",
       "      <td>12/10/2019</td>\n",
       "      <td>96</td>\n",
       "      <td>11139 N IH\\nAUSTIN, TX 78753</td>\n",
       "      <td>2803560</td>\n",
       "      <td>Routine Inspection</td>\n",
       "    </tr>\n",
       "    <tr>\n",
       "      <th>2</th>\n",
       "      <td>Subway</td>\n",
       "      <td>78744.0</td>\n",
       "      <td>08/24/2021</td>\n",
       "      <td>91</td>\n",
       "      <td>6425 S IH\\nAUSTIN, TX 78744</td>\n",
       "      <td>2801485</td>\n",
       "      <td>Routine Inspection</td>\n",
       "    </tr>\n",
       "    <tr>\n",
       "      <th>3</th>\n",
       "      <td>Jersey Mikes Subs</td>\n",
       "      <td>78748.0</td>\n",
       "      <td>02/08/2019</td>\n",
       "      <td>96</td>\n",
       "      <td>9500 S IH\\nAUSTIN, TX 78748</td>\n",
       "      <td>10128381</td>\n",
       "      <td>Routine Inspection</td>\n",
       "    </tr>\n",
       "    <tr>\n",
       "      <th>4</th>\n",
       "      <td>Tokyo Gardens Catering</td>\n",
       "      <td>78744.0</td>\n",
       "      <td>04/24/2020</td>\n",
       "      <td>100</td>\n",
       "      <td>6607 S IH\\nAUSTIN, TX 78744</td>\n",
       "      <td>10743813</td>\n",
       "      <td>Routine Inspection</td>\n",
       "    </tr>\n",
       "  </tbody>\n",
       "</table>\n",
       "</div>"
      ],
      "text/plain": [
       "            Restaurant Name  Zip Code Inspection Date  Score  \\\n",
       "0  OOB - La Tropicana La Fe   78753.0      12/17/2019    100   \n",
       "1         Circle K #2742103   78753.0      12/10/2019     96   \n",
       "2                    Subway   78744.0      08/24/2021     91   \n",
       "3         Jersey Mikes Subs   78748.0      02/08/2019     96   \n",
       "4    Tokyo Gardens Catering   78744.0      04/24/2020    100   \n",
       "\n",
       "                        Address  Facility ID Process Description  \n",
       "0   9429 N IH\\nAUSTIN, TX 78753     10631961  Routine Inspection  \n",
       "1  11139 N IH\\nAUSTIN, TX 78753      2803560  Routine Inspection  \n",
       "2   6425 S IH\\nAUSTIN, TX 78744      2801485  Routine Inspection  \n",
       "3   9500 S IH\\nAUSTIN, TX 78748     10128381  Routine Inspection  \n",
       "4   6607 S IH\\nAUSTIN, TX 78744     10743813  Routine Inspection  "
      ]
     },
     "execution_count": 17,
     "metadata": {},
     "output_type": "execute_result"
    }
   ],
   "source": [
    "df.head()"
   ]
  },
  {
   "cell_type": "code",
   "execution_count": 18,
   "id": "87546129",
   "metadata": {},
   "outputs": [
    {
     "data": {
      "text/plain": [
       "(25313, 7)"
      ]
     },
     "execution_count": 18,
     "metadata": {},
     "output_type": "execute_result"
    }
   ],
   "source": [
    "df.shape"
   ]
  },
  {
   "cell_type": "code",
   "execution_count": 19,
   "id": "304df595",
   "metadata": {},
   "outputs": [
    {
     "data": {
      "text/html": [
       "<div>\n",
       "<style scoped>\n",
       "    .dataframe tbody tr th:only-of-type {\n",
       "        vertical-align: middle;\n",
       "    }\n",
       "\n",
       "    .dataframe tbody tr th {\n",
       "        vertical-align: top;\n",
       "    }\n",
       "\n",
       "    .dataframe thead th {\n",
       "        text-align: right;\n",
       "    }\n",
       "</style>\n",
       "<table border=\"1\" class=\"dataframe\">\n",
       "  <thead>\n",
       "    <tr style=\"text-align: right;\">\n",
       "      <th></th>\n",
       "      <th>Zip Code</th>\n",
       "      <th>Score</th>\n",
       "      <th>Facility ID</th>\n",
       "    </tr>\n",
       "  </thead>\n",
       "  <tbody>\n",
       "    <tr>\n",
       "      <th>count</th>\n",
       "      <td>25307.000000</td>\n",
       "      <td>25313.000000</td>\n",
       "      <td>2.531300e+04</td>\n",
       "    </tr>\n",
       "    <tr>\n",
       "      <th>mean</th>\n",
       "      <td>78727.228237</td>\n",
       "      <td>91.315688</td>\n",
       "      <td>9.224586e+06</td>\n",
       "    </tr>\n",
       "    <tr>\n",
       "      <th>std</th>\n",
       "      <td>107.026090</td>\n",
       "      <td>7.276729</td>\n",
       "      <td>3.737813e+06</td>\n",
       "    </tr>\n",
       "    <tr>\n",
       "      <th>min</th>\n",
       "      <td>78610.000000</td>\n",
       "      <td>44.000000</td>\n",
       "      <td>2.800004e+06</td>\n",
       "    </tr>\n",
       "    <tr>\n",
       "      <th>25%</th>\n",
       "      <td>78704.000000</td>\n",
       "      <td>87.000000</td>\n",
       "      <td>1.000145e+07</td>\n",
       "    </tr>\n",
       "    <tr>\n",
       "      <th>50%</th>\n",
       "      <td>78735.000000</td>\n",
       "      <td>93.000000</td>\n",
       "      <td>1.102803e+07</td>\n",
       "    </tr>\n",
       "    <tr>\n",
       "      <th>75%</th>\n",
       "      <td>78750.000000</td>\n",
       "      <td>97.000000</td>\n",
       "      <td>1.178964e+07</td>\n",
       "    </tr>\n",
       "    <tr>\n",
       "      <th>max</th>\n",
       "      <td>95014.000000</td>\n",
       "      <td>100.000000</td>\n",
       "      <td>1.239573e+07</td>\n",
       "    </tr>\n",
       "  </tbody>\n",
       "</table>\n",
       "</div>"
      ],
      "text/plain": [
       "           Zip Code         Score   Facility ID\n",
       "count  25307.000000  25313.000000  2.531300e+04\n",
       "mean   78727.228237     91.315688  9.224586e+06\n",
       "std      107.026090      7.276729  3.737813e+06\n",
       "min    78610.000000     44.000000  2.800004e+06\n",
       "25%    78704.000000     87.000000  1.000145e+07\n",
       "50%    78735.000000     93.000000  1.102803e+07\n",
       "75%    78750.000000     97.000000  1.178964e+07\n",
       "max    95014.000000    100.000000  1.239573e+07"
      ]
     },
     "execution_count": 19,
     "metadata": {},
     "output_type": "execute_result"
    }
   ],
   "source": [
    "df.describe()"
   ]
  },
  {
   "cell_type": "code",
   "execution_count": 20,
   "id": "b8738fac",
   "metadata": {},
   "outputs": [
    {
     "data": {
      "text/plain": [
       "0        100\n",
       "1         96\n",
       "2         91\n",
       "3         96\n",
       "4        100\n",
       "        ... \n",
       "25308     95\n",
       "25309     80\n",
       "25310     84\n",
       "25311     74\n",
       "25312     99\n",
       "Name: Score, Length: 25313, dtype: int64"
      ]
     },
     "execution_count": 20,
     "metadata": {},
     "output_type": "execute_result"
    }
   ],
   "source": [
    "df['Score']"
   ]
  },
  {
   "cell_type": "code",
   "execution_count": 21,
   "id": "50737030",
   "metadata": {},
   "outputs": [
    {
     "data": {
      "text/plain": [
       "array([100,  96,  91,  93,  92,  94,  90,  99,  98,  88,  89,  70,  77,\n",
       "        78,  80,  97,  83,  95,  85,  84,  87,  74,  75,  82,  79,  81,\n",
       "        86,  76,  60,  72,  73,  71,  61,  68,  67,  64,  63,  59,  62,\n",
       "        56,  66,  57,  55,  44,  50,  69,  65,  58,  52,  54])"
      ]
     },
     "execution_count": 21,
     "metadata": {},
     "output_type": "execute_result"
    }
   ],
   "source": [
    "df['Score'].unique()"
   ]
  },
  {
   "cell_type": "code",
   "execution_count": 22,
   "id": "89b3d747",
   "metadata": {},
   "outputs": [
    {
     "data": {
      "text/plain": [
       "Restaurant Name         object\n",
       "Zip Code               float64\n",
       "Inspection Date         object\n",
       "Score                    int64\n",
       "Address                 object\n",
       "Facility ID              int64\n",
       "Process Description     object\n",
       "dtype: object"
      ]
     },
     "execution_count": 22,
     "metadata": {},
     "output_type": "execute_result"
    }
   ],
   "source": [
    "df.dtypes"
   ]
  },
  {
   "cell_type": "code",
   "execution_count": 23,
   "id": "a73669b3",
   "metadata": {},
   "outputs": [
    {
     "data": {
      "text/plain": [
       "SpearmanrResult(correlation=nan, pvalue=nan)"
      ]
     },
     "execution_count": 23,
     "metadata": {},
     "output_type": "execute_result"
    }
   ],
   "source": [
    "stats.spearmanr(df['Zip Code'], df['Score'])"
   ]
  },
  {
   "cell_type": "code",
   "execution_count": 24,
   "id": "f7551df4",
   "metadata": {},
   "outputs": [
    {
     "data": {
      "text/plain": [
       "Text(0.5, 1.0, 'Dining Scores in Austin')"
      ]
     },
     "execution_count": 24,
     "metadata": {},
     "output_type": "execute_result"
    },
    {
     "data": {
      "image/png": "[encoded data removed]",
      "text/plain": [
       "<Figure size 720x720 with 1 Axes>"
      ]
     },
     "metadata": {
      "needs_background": "light"
     },
     "output_type": "display_data"
    }
   ],
   "source": [
    "fig = plt.figure(figsize=(10,10))\n",
    "ax = fig.add_subplot()\n",
    "ax.plot(df['Score'], df['Zip Code'])\n",
    "ax.set_xlabel(\"Score\")\n",
    "ax.set_ylabel(\"Zip Code\")\n",
    "ax.set_title(\"Dining Scores in Austin\")"
   ]
  },
  {
   "cell_type": "code",
   "execution_count": 25,
   "id": "623edaec",
   "metadata": {},
   "outputs": [
    {
     "name": "stderr",
     "output_type": "stream",
     "text": [
      "/var/folders/9d/zv__gqwn6xz7fryp7wthzssm0000gn/T/ipykernel_14206/1750774691.py:1: DeprecationWarning: `np.float` is a deprecated alias for the builtin `float`. To silence this warning, use `float` by itself. Doing this will not modify any behavior and is safe. If you specifically wanted the numpy scalar type, use `np.float64` here.\n",
      "Deprecated in NumPy 1.20; for more details and guidance: https://numpy.org/devdocs/release/1.20.0-notes.html#deprecations\n",
      "  returns=np.array(df['Score'][:-1],np.float)/np.array(df['Zip Code'][1:],np.float)-1\n"
     ]
    }
   ],
   "source": [
    "returns=np.array(df['Score'][:-1],np.float)/np.array(df['Zip Code'][1:],np.float)-1"
   ]
  },
  {
   "cell_type": "code",
   "execution_count": 26,
   "id": "5414b40a",
   "metadata": {},
   "outputs": [],
   "source": [
    "df['Returns']=np.append(returns,np.nan)"
   ]
  },
  {
   "cell_type": "code",
   "execution_count": 27,
   "id": "d35c807d",
   "metadata": {},
   "outputs": [
    {
     "data": {
      "text/html": [
       "<div>\n",
       "<style scoped>\n",
       "    .dataframe tbody tr th:only-of-type {\n",
       "        vertical-align: middle;\n",
       "    }\n",
       "\n",
       "    .dataframe tbody tr th {\n",
       "        vertical-align: top;\n",
       "    }\n",
       "\n",
       "    .dataframe thead th {\n",
       "        text-align: right;\n",
       "    }\n",
       "</style>\n",
       "<table border=\"1\" class=\"dataframe\">\n",
       "  <thead>\n",
       "    <tr style=\"text-align: right;\">\n",
       "      <th></th>\n",
       "      <th>Restaurant Name</th>\n",
       "      <th>Zip Code</th>\n",
       "      <th>Inspection Date</th>\n",
       "      <th>Score</th>\n",
       "      <th>Address</th>\n",
       "      <th>Facility ID</th>\n",
       "      <th>Process Description</th>\n",
       "      <th>Returns</th>\n",
       "    </tr>\n",
       "  </thead>\n",
       "  <tbody>\n",
       "    <tr>\n",
       "      <th>0</th>\n",
       "      <td>OOB - La Tropicana La Fe</td>\n",
       "      <td>78753.0</td>\n",
       "      <td>12/17/2019</td>\n",
       "      <td>100</td>\n",
       "      <td>9429 N IH\\nAUSTIN, TX 78753</td>\n",
       "      <td>10631961</td>\n",
       "      <td>Routine Inspection</td>\n",
       "      <td>-0.998730</td>\n",
       "    </tr>\n",
       "    <tr>\n",
       "      <th>1</th>\n",
       "      <td>Circle K #2742103</td>\n",
       "      <td>78753.0</td>\n",
       "      <td>12/10/2019</td>\n",
       "      <td>96</td>\n",
       "      <td>11139 N IH\\nAUSTIN, TX 78753</td>\n",
       "      <td>2803560</td>\n",
       "      <td>Routine Inspection</td>\n",
       "      <td>-0.998781</td>\n",
       "    </tr>\n",
       "    <tr>\n",
       "      <th>2</th>\n",
       "      <td>Subway</td>\n",
       "      <td>78744.0</td>\n",
       "      <td>08/24/2021</td>\n",
       "      <td>91</td>\n",
       "      <td>6425 S IH\\nAUSTIN, TX 78744</td>\n",
       "      <td>2801485</td>\n",
       "      <td>Routine Inspection</td>\n",
       "      <td>-0.998844</td>\n",
       "    </tr>\n",
       "    <tr>\n",
       "      <th>3</th>\n",
       "      <td>Jersey Mikes Subs</td>\n",
       "      <td>78748.0</td>\n",
       "      <td>02/08/2019</td>\n",
       "      <td>96</td>\n",
       "      <td>9500 S IH\\nAUSTIN, TX 78748</td>\n",
       "      <td>10128381</td>\n",
       "      <td>Routine Inspection</td>\n",
       "      <td>-0.998781</td>\n",
       "    </tr>\n",
       "    <tr>\n",
       "      <th>4</th>\n",
       "      <td>Tokyo Gardens Catering</td>\n",
       "      <td>78744.0</td>\n",
       "      <td>04/24/2020</td>\n",
       "      <td>100</td>\n",
       "      <td>6607 S IH\\nAUSTIN, TX 78744</td>\n",
       "      <td>10743813</td>\n",
       "      <td>Routine Inspection</td>\n",
       "      <td>-0.998730</td>\n",
       "    </tr>\n",
       "    <tr>\n",
       "      <th>...</th>\n",
       "      <td>...</td>\n",
       "      <td>...</td>\n",
       "      <td>...</td>\n",
       "      <td>...</td>\n",
       "      <td>...</td>\n",
       "      <td>...</td>\n",
       "      <td>...</td>\n",
       "      <td>...</td>\n",
       "    </tr>\n",
       "    <tr>\n",
       "      <th>25308</th>\n",
       "      <td>PF - Pflugerville Taco-House</td>\n",
       "      <td>78660.0</td>\n",
       "      <td>11/12/2020</td>\n",
       "      <td>95</td>\n",
       "      <td>104 N RAILROAD AVE\\nPFLUGERVILLE, TX 78660\\n(3...</td>\n",
       "      <td>12392694</td>\n",
       "      <td>Routine Inspection</td>\n",
       "      <td>-0.998793</td>\n",
       "    </tr>\n",
       "    <tr>\n",
       "      <th>25309</th>\n",
       "      <td>J.D's Market #4</td>\n",
       "      <td>78737.0</td>\n",
       "      <td>12/08/2020</td>\n",
       "      <td>80</td>\n",
       "      <td>11720 FM 1826 RD\\nAUSTIN, TX 78737\\n(30.192594...</td>\n",
       "      <td>10564903</td>\n",
       "      <td>Routine Inspection</td>\n",
       "      <td>-0.998984</td>\n",
       "    </tr>\n",
       "    <tr>\n",
       "      <th>25310</th>\n",
       "      <td>Flower Child</td>\n",
       "      <td>78758.0</td>\n",
       "      <td>03/30/2020</td>\n",
       "      <td>84</td>\n",
       "      <td>11721 ROCK ROSE AVE\\nAUSTIN, TX 78758\\n(30.403...</td>\n",
       "      <td>11606231</td>\n",
       "      <td>Routine Inspection</td>\n",
       "      <td>-0.998933</td>\n",
       "    </tr>\n",
       "    <tr>\n",
       "      <th>25311</th>\n",
       "      <td>Seven Spice</td>\n",
       "      <td>78759.0</td>\n",
       "      <td>11/15/2021</td>\n",
       "      <td>74</td>\n",
       "      <td>3901 SPICEWOOD SPRINGS RD\\nAUSTIN, TX 78759\\n(...</td>\n",
       "      <td>12394186</td>\n",
       "      <td>Routine Inspection</td>\n",
       "      <td>-0.999060</td>\n",
       "    </tr>\n",
       "    <tr>\n",
       "      <th>25312</th>\n",
       "      <td>Fairmont Austin - Gold Lounge (Level 35)</td>\n",
       "      <td>78701.0</td>\n",
       "      <td>10/10/2019</td>\n",
       "      <td>99</td>\n",
       "      <td>101 RED RIVER ST\\nAUSTIN, TX 78701\\n(30.262066...</td>\n",
       "      <td>11853714</td>\n",
       "      <td>Routine Inspection</td>\n",
       "      <td>NaN</td>\n",
       "    </tr>\n",
       "  </tbody>\n",
       "</table>\n",
       "<p>25313 rows × 8 columns</p>\n",
       "</div>"
      ],
      "text/plain": [
       "                                Restaurant Name  Zip Code Inspection Date  \\\n",
       "0                      OOB - La Tropicana La Fe   78753.0      12/17/2019   \n",
       "1                             Circle K #2742103   78753.0      12/10/2019   \n",
       "2                                        Subway   78744.0      08/24/2021   \n",
       "3                             Jersey Mikes Subs   78748.0      02/08/2019   \n",
       "4                        Tokyo Gardens Catering   78744.0      04/24/2020   \n",
       "...                                         ...       ...             ...   \n",
       "25308              PF - Pflugerville Taco-House   78660.0      11/12/2020   \n",
       "25309                           J.D's Market #4   78737.0      12/08/2020   \n",
       "25310                              Flower Child   78758.0      03/30/2020   \n",
       "25311                               Seven Spice   78759.0      11/15/2021   \n",
       "25312  Fairmont Austin - Gold Lounge (Level 35)   78701.0      10/10/2019   \n",
       "\n",
       "       Score                                            Address  Facility ID  \\\n",
       "0        100                        9429 N IH\\nAUSTIN, TX 78753     10631961   \n",
       "1         96                       11139 N IH\\nAUSTIN, TX 78753      2803560   \n",
       "2         91                        6425 S IH\\nAUSTIN, TX 78744      2801485   \n",
       "3         96                        9500 S IH\\nAUSTIN, TX 78748     10128381   \n",
       "4        100                        6607 S IH\\nAUSTIN, TX 78744     10743813   \n",
       "...      ...                                                ...          ...   \n",
       "25308     95  104 N RAILROAD AVE\\nPFLUGERVILLE, TX 78660\\n(3...     12392694   \n",
       "25309     80  11720 FM 1826 RD\\nAUSTIN, TX 78737\\n(30.192594...     10564903   \n",
       "25310     84  11721 ROCK ROSE AVE\\nAUSTIN, TX 78758\\n(30.403...     11606231   \n",
       "25311     74  3901 SPICEWOOD SPRINGS RD\\nAUSTIN, TX 78759\\n(...     12394186   \n",
       "25312     99  101 RED RIVER ST\\nAUSTIN, TX 78701\\n(30.262066...     11853714   \n",
       "\n",
       "      Process Description   Returns  \n",
       "0      Routine Inspection -0.998730  \n",
       "1      Routine Inspection -0.998781  \n",
       "2      Routine Inspection -0.998844  \n",
       "3      Routine Inspection -0.998781  \n",
       "4      Routine Inspection -0.998730  \n",
       "...                   ...       ...  \n",
       "25308  Routine Inspection -0.998793  \n",
       "25309  Routine Inspection -0.998984  \n",
       "25310  Routine Inspection -0.998933  \n",
       "25311  Routine Inspection -0.999060  \n",
       "25312  Routine Inspection       NaN  \n",
       "\n",
       "[25313 rows x 8 columns]"
      ]
     },
     "execution_count": 27,
     "metadata": {},
     "output_type": "execute_result"
    }
   ],
   "source": [
    "df"
   ]
  },
  {
   "cell_type": "code",
   "execution_count": 28,
   "id": "a7c18741",
   "metadata": {},
   "outputs": [],
   "source": [
    "foodScores = pd.read_csv('Food_Establishment_Inspection_Scores.csv')"
   ]
  },
  {
   "cell_type": "code",
   "execution_count": 29,
   "id": "e66b8e52",
   "metadata": {},
   "outputs": [
    {
     "data": {
      "text/html": [
       "<div>\n",
       "<style scoped>\n",
       "    .dataframe tbody tr th:only-of-type {\n",
       "        vertical-align: middle;\n",
       "    }\n",
       "\n",
       "    .dataframe tbody tr th {\n",
       "        vertical-align: top;\n",
       "    }\n",
       "\n",
       "    .dataframe thead th {\n",
       "        text-align: right;\n",
       "    }\n",
       "</style>\n",
       "<table border=\"1\" class=\"dataframe\">\n",
       "  <thead>\n",
       "    <tr style=\"text-align: right;\">\n",
       "      <th></th>\n",
       "      <th>Restaurant Name</th>\n",
       "      <th>Zip Code</th>\n",
       "      <th>Inspection Date</th>\n",
       "      <th>Score</th>\n",
       "      <th>Address</th>\n",
       "      <th>Facility ID</th>\n",
       "      <th>Process Description</th>\n",
       "    </tr>\n",
       "  </thead>\n",
       "  <tbody>\n",
       "    <tr>\n",
       "      <th>0</th>\n",
       "      <td>OOB - La Tropicana La Fe</td>\n",
       "      <td>78753.0</td>\n",
       "      <td>12/17/2019</td>\n",
       "      <td>100</td>\n",
       "      <td>9429 N IH\\nAUSTIN, TX 78753</td>\n",
       "      <td>10631961</td>\n",
       "      <td>Routine Inspection</td>\n",
       "    </tr>\n",
       "    <tr>\n",
       "      <th>1</th>\n",
       "      <td>Circle K #2742103</td>\n",
       "      <td>78753.0</td>\n",
       "      <td>12/10/2019</td>\n",
       "      <td>96</td>\n",
       "      <td>11139 N IH\\nAUSTIN, TX 78753</td>\n",
       "      <td>2803560</td>\n",
       "      <td>Routine Inspection</td>\n",
       "    </tr>\n",
       "    <tr>\n",
       "      <th>2</th>\n",
       "      <td>Subway</td>\n",
       "      <td>78744.0</td>\n",
       "      <td>08/24/2021</td>\n",
       "      <td>91</td>\n",
       "      <td>6425 S IH\\nAUSTIN, TX 78744</td>\n",
       "      <td>2801485</td>\n",
       "      <td>Routine Inspection</td>\n",
       "    </tr>\n",
       "    <tr>\n",
       "      <th>3</th>\n",
       "      <td>Jersey Mikes Subs</td>\n",
       "      <td>78748.0</td>\n",
       "      <td>02/08/2019</td>\n",
       "      <td>96</td>\n",
       "      <td>9500 S IH\\nAUSTIN, TX 78748</td>\n",
       "      <td>10128381</td>\n",
       "      <td>Routine Inspection</td>\n",
       "    </tr>\n",
       "    <tr>\n",
       "      <th>4</th>\n",
       "      <td>Tokyo Gardens Catering</td>\n",
       "      <td>78744.0</td>\n",
       "      <td>04/24/2020</td>\n",
       "      <td>100</td>\n",
       "      <td>6607 S IH\\nAUSTIN, TX 78744</td>\n",
       "      <td>10743813</td>\n",
       "      <td>Routine Inspection</td>\n",
       "    </tr>\n",
       "  </tbody>\n",
       "</table>\n",
       "</div>"
      ],
      "text/plain": [
       "            Restaurant Name  Zip Code Inspection Date  Score  \\\n",
       "0  OOB - La Tropicana La Fe   78753.0      12/17/2019    100   \n",
       "1         Circle K #2742103   78753.0      12/10/2019     96   \n",
       "2                    Subway   78744.0      08/24/2021     91   \n",
       "3         Jersey Mikes Subs   78748.0      02/08/2019     96   \n",
       "4    Tokyo Gardens Catering   78744.0      04/24/2020    100   \n",
       "\n",
       "                        Address  Facility ID Process Description  \n",
       "0   9429 N IH\\nAUSTIN, TX 78753     10631961  Routine Inspection  \n",
       "1  11139 N IH\\nAUSTIN, TX 78753      2803560  Routine Inspection  \n",
       "2   6425 S IH\\nAUSTIN, TX 78744      2801485  Routine Inspection  \n",
       "3   9500 S IH\\nAUSTIN, TX 78748     10128381  Routine Inspection  \n",
       "4   6607 S IH\\nAUSTIN, TX 78744     10743813  Routine Inspection  "
      ]
     },
     "execution_count": 29,
     "metadata": {},
     "output_type": "execute_result"
    }
   ],
   "source": [
    "foodScores.head()"
   ]
  },
  {
   "cell_type": "code",
   "execution_count": 30,
   "id": "6cbc411c",
   "metadata": {},
   "outputs": [
    {
     "ename": "SyntaxError",
     "evalue": "invalid syntax (158562928.py, line 1)",
     "output_type": "error",
     "traceback": [
      "\u001b[0;36m  File \u001b[0;32m\"/var/folders/9d/zv__gqwn6xz7fryp7wthzssm0000gn/T/ipykernel_14206/158562928.py\"\u001b[0;36m, line \u001b[0;32m1\u001b[0m\n\u001b[0;31m    xData = foodScores[\"Returns\"][0:-1].reshape(-1,1b)\u001b[0m\n\u001b[0m                                                    ^\u001b[0m\n\u001b[0;31mSyntaxError\u001b[0m\u001b[0;31m:\u001b[0m invalid syntax\n"
     ]
    }
   ],
   "source": [
    "xData = foodScores[\"Returns\"][0:-1].reshape(-1,1b)"
   ]
  },
  {
   "cell_type": "code",
   "execution_count": null,
   "id": "a1c01e31",
   "metadata": {},
   "outputs": [],
   "source": [
    "yData = pd.read_csv('Food_Establishment_Inspection_Scores.csv')[\"Return\"][0:-1]"
   ]
  },
  {
   "cell_type": "code",
   "execution_count": null,
   "id": "a5a75b5f",
   "metadata": {},
   "outputs": [],
   "source": [
    "X = df.iloc[:, 0].values.reshape(-1, 1)  # values converts it into a numpy array\n",
    "Y = df.iloc[:, 1].values.reshape(-1, 1)  # -1 means that calculate the dimension of rows, but have 1 column\n",
    "linear_regressor = LinearRegression()  # create object for the class\n",
    "linear_regressor.fit(X, Y)  # perform linear regression\n",
    "Y_pred = linear_regressor.predict(X)  # make predictions"
   ]
  },
  {
   "cell_type": "code",
   "execution_count": null,
   "id": "1d412d19",
   "metadata": {},
   "outputs": [],
   "source": [
    "plt.scatter(X, Y)\n",
    "plt.plot(X, Y_pred, color='red')\n",
    "plt.show()"
   ]
  },
  {
   "cell_type": "code",
   "execution_count": 32,
   "id": "12d470c2",
   "metadata": {},
   "outputs": [
    {
     "data": {
      "text/plain": [
       "<AxesSubplot:xlabel='Score', ylabel='Score'>"
      ]
     },
     "execution_count": 32,
     "metadata": {},
     "output_type": "execute_result"
    },
    {
     "data": {
      "image/png": "[encoded data removed]",
      "text/plain": [
       "<Figure size 432x288 with 1 Axes>"
      ]
     },
     "metadata": {
      "needs_background": "light"
     },
     "output_type": "display_data"
    }
   ],
   "source": [
    "sns.regplot(x=df[\"Score\"], y=df[\"Score\"])"
   ]
  },
  {
   "cell_type": "markdown",
   "id": "2b78b55d",
   "metadata": {},
   "source": [
    "Basic statistics for the primary columns you plan to use:\n",
    "    When looking throught the data sets this one caught my eye for a few reasons, I used to live in Austin and I know that they have a lot of great places to eat. Also I was curious about the testing scores. For this set I was looking at the scores and the zip codes to compare.\n",
    "\n",
    "Basic statistics for the primary columns you plan to use:\n",
    "    I the data set was pretty clean with no null values and all of the columns filled in fully. I pulled some of the data in different ways to see what I was looking at. I am focusing mainly on the scores and the zip code columns.\n",
    "\n",
    "What are the key insights of the regression analysis?\n",
    "    Having pulled the data and sorted through pieces of the columns it looks like it is not such a great set for large comparisons.\n",
    "\n",
    "What is the r^2 value?\n",
    "\n",
    "Does the relationship seem linear, or could it be better explained by another type of curve?:\n",
    "    The data for the Scores column is linear...but when compared to another numerical column it is not a good linear regression line.\n",
    "\n",
    "Possible inaccuracies or blind spots in your prediction:\n",
    "    I found this set very interesting, but mostly becasue I am familair with that area of Austin. However the data did prove to be less than great to plot and chart.\n",
    "\n",
    "Your overall confidence level for your prediction:\n",
    "    Not satisfied with how this set has proved to chart and show regression.\n",
    "\n",
    "If you were to conduct Multiple Regression for this dataset, which new variables would you choose to include?\n",
    "    I think that I would change and look for realtions in the areas and dates tested. The scores is what drew me in, however they are not as clear to chart as I was hoping. "
   ]
  }
 ],
 "metadata": {
  "kernelspec": {
   "display_name": "Python 3 (ipykernel)",
   "language": "python",
   "name": "python3"
  },
  "language_info": {
   "codemirror_mode": {
    "name": "ipython",
    "version": 3
   },
   "file_extension": ".py",
   "mimetype": "text/x-python",
   "name": "python",
   "nbconvert_exporter": "python",
   "pygments_lexer": "ipython3",
   "version": "3.9.7"
  }
 },
 "nbformat": 4,
 "nbformat_minor": 5
}
