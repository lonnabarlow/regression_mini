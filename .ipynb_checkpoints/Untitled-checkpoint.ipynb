{
 "cells": [
  {
   "cell_type": "code",
   "execution_count": 39,
   "id": "838472e9",
   "metadata": {},
   "outputs": [],
   "source": [
    "import pandas as pd\n",
    "import numpy as np\n",
    "\n",
    "import matplotlib.pyplot as plt\n",
    "from scipy import stats"
   ]
  },
  {
   "cell_type": "code",
   "execution_count": 40,
   "id": "dc76bf63",
   "metadata": {},
   "outputs": [],
   "source": [
    "df = pd.read_csv('Food_Establishment_Inspection_Scores.csv')"
   ]
  },
  {
   "cell_type": "code",
   "execution_count": 41,
   "id": "ed1c03ed",
   "metadata": {},
   "outputs": [
    {
     "data": {
      "text/html": [
       "<div>\n",
       "<style scoped>\n",
       "    .dataframe tbody tr th:only-of-type {\n",
       "        vertical-align: middle;\n",
       "    }\n",
       "\n",
       "    .dataframe tbody tr th {\n",
       "        vertical-align: top;\n",
       "    }\n",
       "\n",
       "    .dataframe thead th {\n",
       "        text-align: right;\n",
       "    }\n",
       "</style>\n",
       "<table border=\"1\" class=\"dataframe\">\n",
       "  <thead>\n",
       "    <tr style=\"text-align: right;\">\n",
       "      <th></th>\n",
       "      <th>Restaurant Name</th>\n",
       "      <th>Zip Code</th>\n",
       "      <th>Inspection Date</th>\n",
       "      <th>Score</th>\n",
       "      <th>Address</th>\n",
       "      <th>Facility ID</th>\n",
       "      <th>Process Description</th>\n",
       "    </tr>\n",
       "  </thead>\n",
       "  <tbody>\n",
       "    <tr>\n",
       "      <th>0</th>\n",
       "      <td>OOB - La Tropicana La Fe</td>\n",
       "      <td>78753.0</td>\n",
       "      <td>12/17/2019</td>\n",
       "      <td>100</td>\n",
       "      <td>9429 N IH\\nAUSTIN, TX 78753</td>\n",
       "      <td>10631961</td>\n",
       "      <td>Routine Inspection</td>\n",
       "    </tr>\n",
       "    <tr>\n",
       "      <th>1</th>\n",
       "      <td>Circle K #2742103</td>\n",
       "      <td>78753.0</td>\n",
       "      <td>12/10/2019</td>\n",
       "      <td>96</td>\n",
       "      <td>11139 N IH\\nAUSTIN, TX 78753</td>\n",
       "      <td>2803560</td>\n",
       "      <td>Routine Inspection</td>\n",
       "    </tr>\n",
       "    <tr>\n",
       "      <th>2</th>\n",
       "      <td>Subway</td>\n",
       "      <td>78744.0</td>\n",
       "      <td>08/24/2021</td>\n",
       "      <td>91</td>\n",
       "      <td>6425 S IH\\nAUSTIN, TX 78744</td>\n",
       "      <td>2801485</td>\n",
       "      <td>Routine Inspection</td>\n",
       "    </tr>\n",
       "    <tr>\n",
       "      <th>3</th>\n",
       "      <td>Jersey Mikes Subs</td>\n",
       "      <td>78748.0</td>\n",
       "      <td>02/08/2019</td>\n",
       "      <td>96</td>\n",
       "      <td>9500 S IH\\nAUSTIN, TX 78748</td>\n",
       "      <td>10128381</td>\n",
       "      <td>Routine Inspection</td>\n",
       "    </tr>\n",
       "    <tr>\n",
       "      <th>4</th>\n",
       "      <td>Tokyo Gardens Catering</td>\n",
       "      <td>78744.0</td>\n",
       "      <td>04/24/2020</td>\n",
       "      <td>100</td>\n",
       "      <td>6607 S IH\\nAUSTIN, TX 78744</td>\n",
       "      <td>10743813</td>\n",
       "      <td>Routine Inspection</td>\n",
       "    </tr>\n",
       "  </tbody>\n",
       "</table>\n",
       "</div>"
      ],
      "text/plain": [
       "            Restaurant Name  Zip Code Inspection Date  Score  \\\n",
       "0  OOB - La Tropicana La Fe   78753.0      12/17/2019    100   \n",
       "1         Circle K #2742103   78753.0      12/10/2019     96   \n",
       "2                    Subway   78744.0      08/24/2021     91   \n",
       "3         Jersey Mikes Subs   78748.0      02/08/2019     96   \n",
       "4    Tokyo Gardens Catering   78744.0      04/24/2020    100   \n",
       "\n",
       "                        Address  Facility ID Process Description  \n",
       "0   9429 N IH\\nAUSTIN, TX 78753     10631961  Routine Inspection  \n",
       "1  11139 N IH\\nAUSTIN, TX 78753      2803560  Routine Inspection  \n",
       "2   6425 S IH\\nAUSTIN, TX 78744      2801485  Routine Inspection  \n",
       "3   9500 S IH\\nAUSTIN, TX 78748     10128381  Routine Inspection  \n",
       "4   6607 S IH\\nAUSTIN, TX 78744     10743813  Routine Inspection  "
      ]
     },
     "execution_count": 41,
     "metadata": {},
     "output_type": "execute_result"
    }
   ],
   "source": [
    "df.head()"
   ]
  },
  {
   "cell_type": "code",
   "execution_count": 42,
   "id": "115976d0",
   "metadata": {},
   "outputs": [
    {
     "data": {
      "text/plain": [
       "(25313, 7)"
      ]
     },
     "execution_count": 42,
     "metadata": {},
     "output_type": "execute_result"
    }
   ],
   "source": [
    "df.shape"
   ]
  },
  {
   "cell_type": "code",
   "execution_count": 43,
   "id": "24e14b4e",
   "metadata": {},
   "outputs": [
    {
     "data": {
      "text/html": [
       "<div>\n",
       "<style scoped>\n",
       "    .dataframe tbody tr th:only-of-type {\n",
       "        vertical-align: middle;\n",
       "    }\n",
       "\n",
       "    .dataframe tbody tr th {\n",
       "        vertical-align: top;\n",
       "    }\n",
       "\n",
       "    .dataframe thead th {\n",
       "        text-align: right;\n",
       "    }\n",
       "</style>\n",
       "<table border=\"1\" class=\"dataframe\">\n",
       "  <thead>\n",
       "    <tr style=\"text-align: right;\">\n",
       "      <th></th>\n",
       "      <th>Zip Code</th>\n",
       "      <th>Score</th>\n",
       "      <th>Facility ID</th>\n",
       "    </tr>\n",
       "  </thead>\n",
       "  <tbody>\n",
       "    <tr>\n",
       "      <th>count</th>\n",
       "      <td>25307.000000</td>\n",
       "      <td>25313.000000</td>\n",
       "      <td>2.531300e+04</td>\n",
       "    </tr>\n",
       "    <tr>\n",
       "      <th>mean</th>\n",
       "      <td>78727.228237</td>\n",
       "      <td>91.315688</td>\n",
       "      <td>9.224586e+06</td>\n",
       "    </tr>\n",
       "    <tr>\n",
       "      <th>std</th>\n",
       "      <td>107.026090</td>\n",
       "      <td>7.276729</td>\n",
       "      <td>3.737813e+06</td>\n",
       "    </tr>\n",
       "    <tr>\n",
       "      <th>min</th>\n",
       "      <td>78610.000000</td>\n",
       "      <td>44.000000</td>\n",
       "      <td>2.800004e+06</td>\n",
       "    </tr>\n",
       "    <tr>\n",
       "      <th>25%</th>\n",
       "      <td>78704.000000</td>\n",
       "      <td>87.000000</td>\n",
       "      <td>1.000145e+07</td>\n",
       "    </tr>\n",
       "    <tr>\n",
       "      <th>50%</th>\n",
       "      <td>78735.000000</td>\n",
       "      <td>93.000000</td>\n",
       "      <td>1.102803e+07</td>\n",
       "    </tr>\n",
       "    <tr>\n",
       "      <th>75%</th>\n",
       "      <td>78750.000000</td>\n",
       "      <td>97.000000</td>\n",
       "      <td>1.178964e+07</td>\n",
       "    </tr>\n",
       "    <tr>\n",
       "      <th>max</th>\n",
       "      <td>95014.000000</td>\n",
       "      <td>100.000000</td>\n",
       "      <td>1.239573e+07</td>\n",
       "    </tr>\n",
       "  </tbody>\n",
       "</table>\n",
       "</div>"
      ],
      "text/plain": [
       "           Zip Code         Score   Facility ID\n",
       "count  25307.000000  25313.000000  2.531300e+04\n",
       "mean   78727.228237     91.315688  9.224586e+06\n",
       "std      107.026090      7.276729  3.737813e+06\n",
       "min    78610.000000     44.000000  2.800004e+06\n",
       "25%    78704.000000     87.000000  1.000145e+07\n",
       "50%    78735.000000     93.000000  1.102803e+07\n",
       "75%    78750.000000     97.000000  1.178964e+07\n",
       "max    95014.000000    100.000000  1.239573e+07"
      ]
     },
     "execution_count": 43,
     "metadata": {},
     "output_type": "execute_result"
    }
   ],
   "source": [
    "df.describe()"
   ]
  },
  {
   "cell_type": "code",
   "execution_count": 44,
   "id": "64518a55",
   "metadata": {},
   "outputs": [
    {
     "data": {
      "text/plain": [
       "0        100\n",
       "1         96\n",
       "2         91\n",
       "3         96\n",
       "4        100\n",
       "        ... \n",
       "25308     95\n",
       "25309     80\n",
       "25310     84\n",
       "25311     74\n",
       "25312     99\n",
       "Name: Score, Length: 25313, dtype: int64"
      ]
     },
     "execution_count": 44,
     "metadata": {},
     "output_type": "execute_result"
    }
   ],
   "source": [
    "df['Score']"
   ]
  },
  {
   "cell_type": "code",
   "execution_count": 45,
   "id": "ddb8b28d",
   "metadata": {},
   "outputs": [
    {
     "data": {
      "text/plain": [
       "array([100,  96,  91,  93,  92,  94,  90,  99,  98,  88,  89,  70,  77,\n",
       "        78,  80,  97,  83,  95,  85,  84,  87,  74,  75,  82,  79,  81,\n",
       "        86,  76,  60,  72,  73,  71,  61,  68,  67,  64,  63,  59,  62,\n",
       "        56,  66,  57,  55,  44,  50,  69,  65,  58,  52,  54])"
      ]
     },
     "execution_count": 45,
     "metadata": {},
     "output_type": "execute_result"
    }
   ],
   "source": [
    "df['Score'].unique()"
   ]
  },
  {
   "cell_type": "code",
   "execution_count": 46,
   "id": "2a979022",
   "metadata": {},
   "outputs": [
    {
     "data": {
      "text/plain": [
       "Restaurant Name         object\n",
       "Zip Code               float64\n",
       "Inspection Date         object\n",
       "Score                    int64\n",
       "Address                 object\n",
       "Facility ID              int64\n",
       "Process Description     object\n",
       "dtype: object"
      ]
     },
     "execution_count": 46,
     "metadata": {},
     "output_type": "execute_result"
    }
   ],
   "source": [
    "df.dtypes"
   ]
  },
  {
   "cell_type": "code",
   "execution_count": 47,
   "id": "07d8ad6f",
   "metadata": {},
   "outputs": [
    {
     "data": {
      "text/plain": [
       "SpearmanrResult(correlation=nan, pvalue=nan)"
      ]
     },
     "execution_count": 47,
     "metadata": {},
     "output_type": "execute_result"
    }
   ],
   "source": [
    "stats.spearmanr(df['Zip Code'], df['Score'])"
   ]
  },
  {
   "cell_type": "code",
   "execution_count": 54,
   "id": "10eb2c36",
   "metadata": {},
   "outputs": [
    {
     "data": {
      "text/plain": [
       "Text(0.5, 1.0, 'Dining Scores in Austin')"
      ]
     },
     "execution_count": 54,
     "metadata": {},
     "output_type": "execute_result"
    },
    {
     "data": {
      "image/png": "[encoded data removed]",
      "text/plain": [
       "<Figure size 720x720 with 1 Axes>"
      ]
     },
     "metadata": {
      "needs_background": "light"
     },
     "output_type": "display_data"
    }
   ],
   "source": [
    "fig = plt.figure(figsize=(10,10))\n",
    "ax = fig.add_subplot()\n",
    "ax.plot(df['Score'], df['Zip Code'])\n",
    "ax.set_xlabel(\"Score\")\n",
    "ax.set_ylabel(\"Zip Code\")\n",
    "ax.set_title(\"Dining Scores in Austin\")"
   ]
  },
  {
   "cell_type": "code",
   "execution_count": null,
   "id": "7a1777a9",
   "metadata": {},
   "outputs": [],
   "source": []
  }
 ],
 "metadata": {
  "kernelspec": {
   "display_name": "Python 3 (ipykernel)",
   "language": "python",
   "name": "python3"
  },
  "language_info": {
   "codemirror_mode": {
    "name": "ipython",
    "version": 3
   },
   "file_extension": ".py",
   "mimetype": "text/x-python",
   "name": "python",
   "nbconvert_exporter": "python",
   "pygments_lexer": "ipython3",
   "version": "3.9.7"
  }
 },
 "nbformat": 4,
 "nbformat_minor": 5
}
